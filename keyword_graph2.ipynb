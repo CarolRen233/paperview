{
 "cells": [
  {
   "metadata": {},
   "cell_type": "markdown",
   "source": [
    "#### 文献关键词画图\n",
    "\n"
   ],
   "id": "5b6c9cfd0ebb9175"
  },
  {
   "metadata": {
    "collapsed": true,
    "ExecuteTime": {
     "end_time": "2025-05-12T05:49:39.403775Z",
     "start_time": "2025-05-12T05:49:39.327167Z"
    }
   },
   "cell_type": "code",
   "source": [
    "# 导入必要的库\n",
    "import pandas as pd\n",
    "import numpy as np\n",
    "import os\n",
    "import matplotlib.pyplot as plt\n",
    "import seaborn as sns\n",
    "from datetime import datetime\n",
    "from collections import Counter, defaultdict\n",
    "import re\n",
    "from wordcloud import WordCloud\n",
    "import matplotlib.colors as mcolors\n",
    "from matplotlib.font_manager import FontProperties\n",
    "from pyecharts import options as opts\n",
    "from pyecharts.charts import Graph\n",
    "from IPython.display import display, HTML, IFrame\n",
    "import json\n",
    "import warnings\n",
    "warnings.filterwarnings('ignore')"
   ],
   "id": "initial_id",
   "outputs": [],
   "execution_count": 1
  },
  {
   "metadata": {
    "ExecuteTime": {
     "end_time": "2025-05-12T05:49:39.542384Z",
     "start_time": "2025-05-12T05:49:39.527080Z"
    }
   },
   "cell_type": "code",
   "source": [
    "# 设置matplotlib中文显示\n",
    "plt.rcParams['font.sans-serif'] = ['SimHei']\n",
    "plt.rcParams['axes.unicode_minus'] = False"
   ],
   "id": "e967ca6443d38ffb",
   "outputs": [],
   "execution_count": 2
  },
  {
   "metadata": {
    "ExecuteTime": {
     "end_time": "2025-05-12T05:49:41.714458Z",
     "start_time": "2025-05-12T05:49:40.436403Z"
    }
   },
   "cell_type": "code",
   "source": [
    "# 下载nltk词库（如果首次使用）\n",
    "import nltk\n",
    "from nltk.corpus import wordnet\n",
    "nltk.download('wordnet')\n",
    "nltk.download('omw-1.4')"
   ],
   "id": "e82db060222ae057",
   "outputs": [
    {
     "name": "stderr",
     "output_type": "stream",
     "text": [
      "[nltk_data] Downloading package wordnet to\n",
      "[nltk_data]     C:\\Users\\admin\\AppData\\Roaming\\nltk_data...\n",
      "[nltk_data]   Package wordnet is already up-to-date!\n",
      "[nltk_data] Downloading package omw-1.4 to\n",
      "[nltk_data]     C:\\Users\\admin\\AppData\\Roaming\\nltk_data...\n",
      "[nltk_data]   Package omw-1.4 is already up-to-date!\n"
     ]
    },
    {
     "data": {
      "text/plain": [
       "True"
      ]
     },
     "execution_count": 3,
     "metadata": {},
     "output_type": "execute_result"
    }
   ],
   "execution_count": 3
  },
  {
   "metadata": {
    "ExecuteTime": {
     "end_time": "2025-05-12T05:49:43.346308Z",
     "start_time": "2025-05-12T05:49:43.331984Z"
    }
   },
   "cell_type": "code",
   "source": [
    "def load_data(file_path):\n",
    "    \"\"\"加载CSV数据文件\"\"\"\n",
    "    df = pd.read_csv(file_path, encoding='utf-8')\n",
    "    print(f\"数据集大小: {df.shape}\")\n",
    "    print(f\"数据集列名: {df.columns.tolist()}\")\n",
    "    return df"
   ],
   "id": "8771a6b75533f380",
   "outputs": [],
   "execution_count": 4
  },
  {
   "metadata": {
    "ExecuteTime": {
     "end_time": "2025-05-12T05:49:43.683224Z",
     "start_time": "2025-05-12T05:49:43.670143Z"
    }
   },
   "cell_type": "code",
   "source": "insight_keywords = ['continuous fibers', 'path planning method', 'robot programming', 'optimization', 'topology optimisation']",
   "id": "c3db4d28cabd509c",
   "outputs": [],
   "execution_count": 5
  },
  {
   "metadata": {
    "ExecuteTime": {
     "end_time": "2025-05-12T05:49:44.841448Z",
     "start_time": "2025-05-12T05:49:44.827705Z"
    }
   },
   "cell_type": "code",
   "source": [
    "file_path = './results/CFpathPlanning101_20250510_17/CFpathPlanning101_replaced_synonyms.csv'\n",
    "save_path = './results'\n",
    "df = load_data(file_path)"
   ],
   "id": "34ec6ee59cdc178d",
   "outputs": [
    {
     "name": "stdout",
     "output_type": "stream",
     "text": [
      "数据集大小: (101, 26)\n",
      "数据集列名: ['作者', 'Author full names', '作者 ID', '文献标题', '年份', '来源出版物名称', '卷', '期', '论文编号', '起始页码', '结束页码', '页码计数', '施引文献', 'DOI', '链接', '归属机构', '带归属机构的作者', '摘要', '作者关键字', '索引关键字', '通讯地址', '文献类型', '出版阶段', '开放获取', '来源出版物', 'EID']\n"
     ]
    }
   ],
   "execution_count": 6
  },
  {
   "metadata": {
    "ExecuteTime": {
     "end_time": "2025-05-12T05:49:45.682684Z",
     "start_time": "2025-05-12T05:49:45.669306Z"
    }
   },
   "cell_type": "code",
   "source": [
    "base_filename = os.path.basename(file_path)\n",
    "file_name_without_ext = os.path.splitext(base_filename)[0]\n",
    "timestamp = datetime.now().strftime(\"%Y%m%d_%H\")\n",
    "output_dir = f\"{save_path}/{file_name_without_ext}_{timestamp}\"\n",
    "\n",
    "if not os.path.exists(output_dir):\n",
    "    os.makedirs(output_dir)\n",
    "    print(f\"创建输出目录: {output_dir}\")\n"
   ],
   "id": "87d744f21abfbc33",
   "outputs": [
    {
     "name": "stdout",
     "output_type": "stream",
     "text": [
      "创建输出目录: ./results/CFpathPlanning101_replaced_synonyms_20250512_13\n"
     ]
    }
   ],
   "execution_count": 7
  },
  {
   "metadata": {
    "ExecuteTime": {
     "end_time": "2025-05-12T05:49:48.074204Z",
     "start_time": "2025-05-12T05:49:48.060005Z"
    }
   },
   "cell_type": "code",
   "source": [
    "# 添加清理关键词的函数\n",
    "def clean_keywords(keywords_str):\n",
    "    \"\"\"清理和提取关键词\"\"\"\n",
    "    if pd.isna(keywords_str) or keywords_str == 'nan' or not keywords_str.strip():\n",
    "        return []\n",
    "    # 分割关键词\n",
    "    return [k.strip().lower() for k in re.split(r'[;,，；]', keywords_str) if k.strip()]"
   ],
   "id": "d4d905c119bc2087",
   "outputs": [],
   "execution_count": 8
  },
  {
   "metadata": {
    "ExecuteTime": {
     "end_time": "2025-05-12T05:49:48.865918Z",
     "start_time": "2025-05-12T05:49:48.851778Z"
    }
   },
   "cell_type": "code",
   "source": [
    "# 获取高引用文章的函数\n",
    "def get_top_cited_papers(df, keyword, recent_years=3, top_n=5):\n",
    "    \"\"\"获取关键词相关的高引论文\"\"\"\n",
    "    print(f\"\\n获取关键词 '{keyword}' 的高引用文章...\")\n",
    "\n",
    "    # 创建一个包含作者关键词和索引关键词的列\n",
    "    if 'all_keywords' not in df.columns:\n",
    "        df['all_keywords'] = df.apply(\n",
    "            lambda row: clean_keywords(str(row.get('作者关键字', ''))) + clean_keywords(str(row.get('索引关键字', ''))),\n",
    "            axis=1\n",
    "        )\n",
    "    # 筛选包含目标关键词的文章\n",
    "    target_keyword_lower = keyword.lower()\n",
    "    relevant_papers = df[df['all_keywords'].apply(\n",
    "        lambda keywords: target_keyword_lower in [k.lower() for k in keywords]\n",
    "    )]\n",
    "    if len(relevant_papers) == 0:\n",
    "        print(f\"未找到与'{keyword}'相关的文章\")\n",
    "        return [], []\n",
    "    # 将'施引文献'转换为数值型\n",
    "    relevant_papers['citation_count'] = pd.to_numeric(relevant_papers['施引文献'], errors='coerce').fillna(0)\n",
    "    # 获取当前年份\n",
    "    current_year = datetime.now().year\n",
    "    recent_cutoff_year = current_year - recent_years\n",
    "    # 分割最近几年和更早的论文\n",
    "    recent_df = relevant_papers[relevant_papers['年份'] >= recent_cutoff_year]\n",
    "    older_df = relevant_papers[relevant_papers['年份'] < recent_cutoff_year]\n",
    "    # 按引用次数排序并取前N篇\n",
    "    recent_top_papers = recent_df.sort_values('citation_count', ascending=False).head(top_n)\n",
    "    older_top_papers = older_df.sort_values('citation_count', ascending=False).head(top_n)\n",
    "    # 转换为字典列表\n",
    "    recent_papers = []\n",
    "    for _, paper in recent_top_papers.iterrows():\n",
    "        recent_papers.append({\n",
    "            '标题': paper.get('文献标题', '无标题'),\n",
    "            '作者': paper.get('作者', '未知作者'),\n",
    "            '来源': paper.get('来源出版物名称', '未知来源'),\n",
    "            '年份': paper.get('年份', '未知年份'),\n",
    "            '被引频次': int(paper.get('citation_count', 0)),\n",
    "            'DOI': paper.get('DOI', '')\n",
    "        })\n",
    "    older_papers = []\n",
    "    for _, paper in older_top_papers.iterrows():\n",
    "        older_papers.append({\n",
    "            '标题': paper.get('文献标题', '无标题'),\n",
    "            '作者': paper.get('作者', '未知作者'),\n",
    "            '来源': paper.get('来源出版物名称', '未知来源'),\n",
    "            '年份': paper.get('年份', '未知年份'),\n",
    "            '被引频次': int(paper.get('citation_count', 0)),\n",
    "            'DOI': paper.get('DOI', '')\n",
    "        })\n",
    "    print(f\"找到与'{keyword}'相关的最近{recent_years}年高引用文章: {len(recent_papers)}\")\n",
    "    print(f\"找到与'{keyword}'相关的其他年份高引用文章: {len(older_papers)}\")\n",
    "\n",
    "    return recent_papers, older_papers"
   ],
   "id": "b182098c785d4614",
   "outputs": [],
   "execution_count": 9
  },
  {
   "metadata": {
    "ExecuteTime": {
     "end_time": "2025-05-12T05:49:49.315815Z",
     "start_time": "2025-05-12T05:49:49.302339Z"
    }
   },
   "cell_type": "code",
   "source": [
    "# 修改关键词关系图函数，添加高引用文章支持\n",
    "def create_keyword_graph(df, target_keyword, output_dir, top_related=30, min_co_occurrence=2):\n",
    "    \"\"\"\n",
    "    为目标关键词创建关系图并生成包含高引用文章的HTML报告\n",
    "\n",
    "    参数:\n",
    "    - df: 包含文献数据的DataFrame\n",
    "    - target_keyword: 要分析的目标关键词\n",
    "    - output_dir: 输出文件保存目录\n",
    "    - top_related: 要包含的相关关键词数量\n",
    "    - min_co_occurrence: 最小共现次数阈值\n",
    "    \"\"\"\n",
    "    print(f\"\\n开始为关键词 '{target_keyword}' 创建关系图...\")\n",
    "    # 获取关键词与其他关键词的共现关系\n",
    "    keyword_relations = defaultdict(Counter)\n",
    "    # 分析每篇文献中关键词的共现情况\n",
    "    for _, row in df.iterrows():\n",
    "        # 获取文献的关键词列表\n",
    "        keywords = []\n",
    "        # 从作者关键字和索引关键字中提取\n",
    "        for col in ['作者关键字', '索引关键字']:\n",
    "            if col in df.columns and isinstance(row[col], str) and row[col].strip():\n",
    "                # 分割关键词\n",
    "                kws = [k.strip().lower() for k in re.split(r'[;,，；]', row[col]) if k.strip()]\n",
    "                keywords.extend(kws)\n",
    "        # 去重\n",
    "        keywords = list(set(keywords))\n",
    "        # 如果关键词列表中包含目标关键词\n",
    "        if target_keyword.lower() in [k.lower() for k in keywords]:\n",
    "            # 更新共现计数\n",
    "            for i, kw1 in enumerate(keywords):\n",
    "                for j, kw2 in enumerate(keywords):\n",
    "                    if i != j:  # 避免自身与自身的关系\n",
    "                        keyword_relations[kw1.lower()][kw2.lower()] += 1\n",
    "    # 检查目标关键词是否被找到\n",
    "    if target_keyword.lower() not in keyword_relations:\n",
    "        print(f\"在数据集中未找到关键词 '{target_keyword}'\")\n",
    "        return None\n",
    "    # 获取与目标关键词共现最多的关键词\n",
    "    related_keywords = keyword_relations[target_keyword.lower()]\n",
    "    print(f\"找到与 '{target_keyword}' 共现的关键词数量: {len(related_keywords)}\")\n",
    "    # 过滤掉共现次数低于阈值的关键词\n",
    "    filtered_related = {k: v for k, v in related_keywords.items() if v >= min_co_occurrence}\n",
    "    print(f\"共现次数 >= {min_co_occurrence} 的关键词数量: {len(filtered_related)}\")\n",
    "    # 获取前N个最相关的关键词\n",
    "    top_keywords = [k for k, _ in sorted(filtered_related.items(), key=lambda x: x[1], reverse=True)[:top_related]]\n",
    "    # 添加目标关键词\n",
    "    top_keywords = [target_keyword.lower()] + [k for k in top_keywords if k != target_keyword.lower()]\n",
    "    # 构建节点和边\n",
    "    nodes = []\n",
    "    links = []\n",
    "    # 添加目标关键词作为中心节点\n",
    "    nodes.append({\n",
    "        \"id\": target_keyword.lower(),\n",
    "        \"name\": target_keyword,\n",
    "        \"symbolSize\": 50,  # 较大的节点大小\n",
    "        \"value\": sum(related_keywords.values()),  # 值为总共现次数\n",
    "        \"category\": 0,  # 中心节点类别\n",
    "        \"itemStyle\": {\"color\": \"#FF0000\"}  # 红色\n",
    "    })\n",
    "    # 添加相关关键词节点\n",
    "    for i, kw in enumerate(top_keywords[1:], 1):  # 跳过中心节点\n",
    "        # 计算节点大小（基于共现次数）\n",
    "        size = max(20, min(40, 15 + filtered_related[kw] * 2))\n",
    "        nodes.append({\n",
    "            \"id\": kw,\n",
    "            \"name\": kw,\n",
    "            \"symbolSize\": size,\n",
    "            \"value\": filtered_related[kw],\n",
    "            \"category\": 1,  # 关联节点类别\n",
    "        })\n",
    "        # 添加与中心节点的连接\n",
    "        links.append({\n",
    "            \"source\": target_keyword.lower(),\n",
    "            \"target\": kw,\n",
    "            \"value\": filtered_related[kw]\n",
    "        })\n",
    "    # 添加关键词之间的连接\n",
    "    for i, kw1 in enumerate(top_keywords[1:], 1):\n",
    "        for j, kw2 in enumerate(top_keywords[1:], 1):\n",
    "            if i < j:  # 避免重复连接\n",
    "                co_occurrence = keyword_relations[kw1][kw2]\n",
    "                if co_occurrence >= min_co_occurrence:\n",
    "                    links.append({\n",
    "                        \"source\": kw1,\n",
    "                        \"target\": kw2,\n",
    "                        \"value\": co_occurrence\n",
    "                    })\n",
    "    # 创建类别\n",
    "    categories = [\n",
    "        {\"name\": \"中心关键词\"},\n",
    "        {\"name\": \"相关关键词\"}\n",
    "    ]\n",
    "\n",
    "    # 获取高引用文章\n",
    "    recent_papers, older_papers = get_top_cited_papers(df, target_keyword)\n",
    "\n",
    "    # 创建高引用文章HTML\n",
    "    papers_html = create_cited_papers_html(recent_papers, older_papers)\n",
    "\n",
    "    # 创建包含图和高引文章的HTML\n",
    "    output_file = os.path.join(output_dir, f\"{target_keyword.replace(' ', '_')}_report.html\")\n",
    "\n",
    "    # HTML内容模板\n",
    "    html_content = f\"\"\"\n",
    "    <!DOCTYPE html>\n",
    "    <html>\n",
    "    <head>\n",
    "        <meta charset=\"UTF-8\">\n",
    "        <title>关键词 '{target_keyword}' 分析报告</title>\n",
    "        <script src=\"https://cdn.jsdelivr.net/npm/echarts@5.4.3/dist/echarts.min.js\"></script>\n",
    "        <style>\n",
    "            body {{\n",
    "                font-family: Arial, sans-serif;\n",
    "                margin: 0;\n",
    "                padding: 0;\n",
    "                background-color: #f5f5f5;\n",
    "            }}\n",
    "            .container {{\n",
    "                max-width: 1200px;\n",
    "                margin: 0 auto;\n",
    "                padding: 20px;\n",
    "                background-color: white;\n",
    "                box-shadow: 0 0 10px rgba(0,0,0,0.1);\n",
    "            }}\n",
    "            .header {{\n",
    "                text-align: center;\n",
    "                padding: 20px 0;\n",
    "                border-bottom: 1px solid #eee;\n",
    "                margin-bottom: 30px;\n",
    "            }}\n",
    "            .tab-container {{\n",
    "                width: 100%;\n",
    "            }}\n",
    "            .tab-buttons {{\n",
    "                display: flex;\n",
    "                margin-bottom: 20px;\n",
    "                border-bottom: 1px solid #ddd;\n",
    "            }}\n",
    "            .tab-button {{\n",
    "                padding: 15px 20px;\n",
    "                background-color: #f1f1f1;\n",
    "                border: none;\n",
    "                cursor: pointer;\n",
    "                font-size: 16px;\n",
    "                margin-right: 5px;\n",
    "                transition: background-color 0.3s;\n",
    "                border-radius: 5px 5px 0 0;\n",
    "            }}\n",
    "            .tab-button:hover {{\n",
    "                background-color: #ddd;\n",
    "            }}\n",
    "            .tab-button.active {{\n",
    "                background-color: #4CAF50;\n",
    "                color: white;\n",
    "            }}\n",
    "            .tab-content {{\n",
    "                display: none;\n",
    "                padding: 20px;\n",
    "                border: 1px solid #ddd;\n",
    "                border-top: none;\n",
    "                animation: fadeIn 0.5s;\n",
    "            }}\n",
    "            .tab-content.active {{\n",
    "                display: block;\n",
    "            }}\n",
    "            .chart-container {{\n",
    "                width: 100%;\n",
    "                height: 700px;\n",
    "                margin-top: 20px;\n",
    "            }}\n",
    "            @keyframes fadeIn {{\n",
    "                from {{ opacity: 0; }}\n",
    "                to {{ opacity: 1; }}\n",
    "            }}\n",
    "            .paper-table {{\n",
    "                width: 100%;\n",
    "                border-collapse: collapse;\n",
    "                margin-bottom: 30px;\n",
    "            }}\n",
    "            .paper-table th {{\n",
    "                background-color: #f2f2f2;\n",
    "                border: 1px solid #ddd;\n",
    "                padding: 12px;\n",
    "                text-align: left;\n",
    "            }}\n",
    "            .paper-table td {{\n",
    "                border: 1px solid #ddd;\n",
    "                padding: 12px;\n",
    "                text-align: left;\n",
    "            }}\n",
    "            .paper-section {{\n",
    "                margin-bottom: 40px;\n",
    "            }}\n",
    "            .paper-section h3 {{\n",
    "                margin-bottom: 15px;\n",
    "                border-bottom: 2px solid #4CAF50;\n",
    "                padding-bottom: 8px;\n",
    "                color: #333;\n",
    "            }}\n",
    "        </style>\n",
    "    </head>\n",
    "    <body>\n",
    "        <div class=\"container\">\n",
    "            <div class=\"header\">\n",
    "                <h1>关键词 '{target_keyword}' 分析报告</h1>\n",
    "            </div>\n",
    "\n",
    "            <div class=\"tab-container\">\n",
    "                <div class=\"tab-buttons\">\n",
    "                    <button class=\"tab-button active\" onclick=\"openTab(event, 'tab1')\">关键词关系图</button>\n",
    "                    <button class=\"tab-button\" onclick=\"openTab(event, 'tab2')\">高引用文章</button>\n",
    "                </div>\n",
    "\n",
    "                <div id=\"tab1\" class=\"tab-content active\">\n",
    "                    <div id=\"relationGraph\" class=\"chart-container\"></div>\n",
    "                </div>\n",
    "\n",
    "                <div id=\"tab2\" class=\"tab-content\">\n",
    "                    {papers_html}\n",
    "                </div>\n",
    "            </div>\n",
    "        </div>\n",
    "\n",
    "        <script>\n",
    "            // 关系图数据\n",
    "            const graphData = {{\n",
    "                nodes: {json.dumps(nodes)},\n",
    "                links: {json.dumps(links)},\n",
    "                categories: {json.dumps(categories)}\n",
    "            }};\n",
    "\n",
    "            // 初始化图表\n",
    "            function initCharts() {{\n",
    "                const relationGraph = echarts.init(document.getElementById('relationGraph'));\n",
    "\n",
    "                const option = {{\n",
    "                    title: {{\n",
    "                        text: '关键词 \\'{target_keyword}\\' 关系图'\n",
    "                    }},\n",
    "                    tooltip: {{\n",
    "                        trigger: 'item',\n",
    "                        formatter: '{{a}} <br/>{{b}} : {{c}}'\n",
    "                    }},\n",
    "                    legend: {{\n",
    "                        orient: 'vertical',\n",
    "                        left: '2%',\n",
    "                        top: '20%',\n",
    "                        data: graphData.categories.map(a => a.name)\n",
    "                    }},\n",
    "                    series: [\n",
    "                        {{\n",
    "                            type: 'graph',\n",
    "                            layout: 'force',\n",
    "                            data: graphData.nodes,\n",
    "                            links: graphData.links,\n",
    "                            categories: graphData.categories,\n",
    "                            roam: true,\n",
    "                            draggable: true,\n",
    "                            label: {{\n",
    "                                show: true,\n",
    "                                position: 'right',\n",
    "                                fontSize: 12\n",
    "                            }},\n",
    "                            lineStyle: {{\n",
    "                                width: 1.5,\n",
    "                                curveness: 0.3,\n",
    "                                opacity: 0.8\n",
    "                            }},\n",
    "                            force: {{\n",
    "                                repulsion: 800,\n",
    "                                gravity: 0.2,\n",
    "                                edgeLength: 120\n",
    "                            }},\n",
    "                            edgeSymbol: ['none', 'arrow']\n",
    "                        }}\n",
    "                    ]\n",
    "                }};\n",
    "\n",
    "                relationGraph.setOption(option);\n",
    "\n",
    "                // 窗口大小改变时调整图表大小\n",
    "                window.addEventListener('resize', function() {{\n",
    "                    relationGraph.resize();\n",
    "                }});\n",
    "            }}\n",
    "\n",
    "            // 初始化图表\n",
    "            initCharts();\n",
    "\n",
    "            // 切换选项卡\n",
    "            function openTab(evt, tabName) {{\n",
    "                var i, tabcontent, tablinks;\n",
    "\n",
    "                // 隐藏所有选项卡内容\n",
    "                tabcontent = document.getElementsByClassName(\"tab-content\");\n",
    "                for (i = 0; i < tabcontent.length; i++) {{\n",
    "                    tabcontent[i].className = tabcontent[i].className.replace(\" active\", \"\");\n",
    "                }}\n",
    "\n",
    "                // 移除所有选项卡按钮的活动状态\n",
    "                tablinks = document.getElementsByClassName(\"tab-button\");\n",
    "                for (i = 0; i < tablinks.length; i++) {{\n",
    "                    tablinks[i].className = tablinks[i].className.replace(\" active\", \"\");\n",
    "                }}\n",
    "\n",
    "                // 显示当前选项卡并添加活动状态\n",
    "                document.getElementById(tabName).className += \" active\";\n",
    "                evt.currentTarget.className += \" active\";\n",
    "            }}\n",
    "        </script>\n",
    "    </body>\n",
    "    </html>\n",
    "    \"\"\"\n",
    "\n",
    "    # 保存HTML文件\n",
    "    with open(output_file, 'w', encoding='utf-8') as f:\n",
    "        f.write(html_content)\n",
    "\n",
    "    print(f\"分析报告已保存至: {output_file}\")\n",
    "\n",
    "    # 在Jupyter中显示\n",
    "    return IFrame(output_file, width=1000, height=800)"
   ],
   "id": "e8af3bcaf78974b7",
   "outputs": [],
   "execution_count": 10
  },
  {
   "metadata": {
    "ExecuteTime": {
     "end_time": "2025-05-12T05:49:49.548300Z",
     "start_time": "2025-05-12T05:49:49.533221Z"
    }
   },
   "cell_type": "code",
   "source": [
    "def create_cited_papers_html(recent_papers, older_papers):\n",
    "    \"\"\"创建高引用文章的HTML内容\"\"\"\n",
    "    # 生成最近几年高引用文章表格\n",
    "    recent_rows = \"\"\n",
    "    for paper in recent_papers:\n",
    "        doi_link = f'<a href=\"https://doi.org/{paper[\"DOI\"]}\" target=\"_blank\">{paper[\"DOI\"]}</a>' if paper['DOI'] else ''\n",
    "        recent_rows += f\"\"\"\n",
    "        <tr>\n",
    "            <td>{paper['标题']}</td>\n",
    "            <td>{paper['作者']}</td>\n",
    "            <td>{paper['来源']}</td>\n",
    "            <td style=\"text-align:center\">{paper['年份']}</td>\n",
    "            <td style=\"text-align:center\">{paper['被引频次']}</td>\n",
    "            <td>{doi_link}</td>\n",
    "        </tr>\n",
    "        \"\"\"\n",
    "\n",
    "    # 生成其他年份高引用文章表格\n",
    "    older_rows = \"\"\n",
    "    for paper in older_papers:\n",
    "        doi_link = f'<a href=\"https://doi.org/{paper[\"DOI\"]}\" target=\"_blank\">{paper[\"DOI\"]}</a>' if paper['DOI'] else ''\n",
    "        older_rows += f\"\"\"\n",
    "        <tr>\n",
    "            <td>{paper['标题']}</td>\n",
    "            <td>{paper['作者']}</td>\n",
    "            <td>{paper['来源']}</td>\n",
    "            <td style=\"text-align:center\">{paper['年份']}</td>\n",
    "            <td style=\"text-align:center\">{paper['被引频次']}</td>\n",
    "            <td>{doi_link}</td>\n",
    "        </tr>\n",
    "        \"\"\"\n",
    "\n",
    "    # 生成完整的HTML内容\n",
    "    papers_html = f\"\"\"\n",
    "    <div class=\"paper-section\">\n",
    "        <h3>最近3年的高引用文章</h3>\n",
    "        <table class=\"paper-table\">\n",
    "            <thead>\n",
    "                <tr>\n",
    "                    <th>标题</th>\n",
    "                    <th>作者</th>\n",
    "                    <th>来源</th>\n",
    "                    <th>年份</th>\n",
    "                    <th>被引频次</th>\n",
    "                    <th>DOI</th>\n",
    "                </tr>\n",
    "            </thead>\n",
    "            <tbody>\n",
    "                {recent_rows}\n",
    "            </tbody>\n",
    "        </table>\n",
    "    </div>\n",
    "\n",
    "    <div class=\"paper-section\">\n",
    "        <h3>所有年份的高引用文章（除最近3年外）</h3>\n",
    "        <table class=\"paper-table\">\n",
    "            <thead>\n",
    "                <tr>\n",
    "                    <th>标题</th>\n",
    "                    <th>作者</th>\n",
    "                    <th>来源</th>\n",
    "                    <th>年份</th>\n",
    "                    <th>被引频次</th>\n",
    "                    <th>DOI</th>\n",
    "                </tr>\n",
    "            </thead>\n",
    "            <tbody>\n",
    "                {older_rows}\n",
    "            </tbody>\n",
    "        </table>\n",
    "    </div>\n",
    "    \"\"\"\n",
    "\n",
    "    return papers_html\n"
   ],
   "id": "b173eca0a021c366",
   "outputs": [],
   "execution_count": 11
  },
  {
   "metadata": {
    "ExecuteTime": {
     "end_time": "2025-05-12T05:49:49.719331Z",
     "start_time": "2025-05-12T05:49:49.711239Z"
    }
   },
   "cell_type": "code",
   "source": [
    "# 修改分析单个关键词的函数\n",
    "def analyze_keyword(df, keyword, output_dir):\n",
    "    \"\"\"分析单个关键词并生成报告\"\"\"\n",
    "    print(f\"\\n{'='*50}\\n开始分析关键词: {keyword}\\n{'='*50}\")\n",
    "    # 创建关键词报告（包含关系图和高引用文章）\n",
    "    result = create_keyword_graph(df, keyword, output_dir)\n",
    "    if result:\n",
    "        return result\n",
    "    else:\n",
    "        return None"
   ],
   "id": "e0ed4a0516972456",
   "outputs": [],
   "execution_count": 12
  },
  {
   "metadata": {
    "ExecuteTime": {
     "end_time": "2025-05-12T05:49:50.569614Z",
     "start_time": "2025-05-12T05:49:50.555570Z"
    }
   },
   "cell_type": "code",
   "source": [
    "# 分析关键词列表的函数\n",
    "def analyze_keywords(df, keywords_list, output_dir):\n",
    "    \"\"\"依次分析多个关键词并生成关系图\"\"\"\n",
    "    results = {}\n",
    "\n",
    "    for keyword in keywords_list:\n",
    "        result = analyze_keyword(df, keyword, output_dir)\n",
    "        results[keyword] = result\n",
    "\n",
    "    return results"
   ],
   "id": "45da9a128d5c5f0b",
   "outputs": [],
   "execution_count": 13
  },
  {
   "metadata": {
    "ExecuteTime": {
     "end_time": "2025-05-12T05:49:50.975026Z",
     "start_time": "2025-05-12T05:49:50.960833Z"
    }
   },
   "cell_type": "code",
   "source": [
    "# 对单个关键词进行分析的函数\n",
    "def run_analysis_for_keyword():\n",
    "    \"\"\"交互式输入一个关键词并进行分析\"\"\"\n",
    "    keyword = input(\"请输入要分析的关键词: \")\n",
    "    if keyword.strip():\n",
    "        return analyze_keyword(df, keyword.strip(), output_dir)\n",
    "    else:\n",
    "        print(\"未输入关键词\")\n",
    "        return None"
   ],
   "id": "e8e4142121f72ef5",
   "outputs": [],
   "execution_count": 14
  },
  {
   "metadata": {
    "ExecuteTime": {
     "end_time": "2025-05-12T05:49:53.934403Z",
     "start_time": "2025-05-12T05:49:51.285184Z"
    }
   },
   "cell_type": "code",
   "source": [
    "# 运行单个关键词分析\n",
    "result = run_analysis_for_keyword()"
   ],
   "id": "5af00c0aa07dd12f",
   "outputs": [
    {
     "ename": "KeyboardInterrupt",
     "evalue": "Interrupted by user",
     "output_type": "error",
     "traceback": [
      "\u001B[1;31m---------------------------------------------------------------------------\u001B[0m",
      "\u001B[1;31mKeyboardInterrupt\u001B[0m                         Traceback (most recent call last)",
      "Cell \u001B[1;32mIn[15], line 2\u001B[0m\n\u001B[0;32m      1\u001B[0m \u001B[38;5;66;03m# 运行单个关键词分析\u001B[39;00m\n\u001B[1;32m----> 2\u001B[0m result \u001B[38;5;241m=\u001B[39m \u001B[43mrun_analysis_for_keyword\u001B[49m\u001B[43m(\u001B[49m\u001B[43m)\u001B[49m\n",
      "Cell \u001B[1;32mIn[14], line 4\u001B[0m, in \u001B[0;36mrun_analysis_for_keyword\u001B[1;34m()\u001B[0m\n\u001B[0;32m      2\u001B[0m \u001B[38;5;28;01mdef\u001B[39;00m\u001B[38;5;250m \u001B[39m\u001B[38;5;21mrun_analysis_for_keyword\u001B[39m():\n\u001B[0;32m      3\u001B[0m \u001B[38;5;250m    \u001B[39m\u001B[38;5;124;03m\"\"\"交互式输入一个关键词并进行分析\"\"\"\u001B[39;00m\n\u001B[1;32m----> 4\u001B[0m     keyword \u001B[38;5;241m=\u001B[39m \u001B[38;5;28;43minput\u001B[39;49m\u001B[43m(\u001B[49m\u001B[38;5;124;43m\"\u001B[39;49m\u001B[38;5;124;43m请输入要分析的关键词: \u001B[39;49m\u001B[38;5;124;43m\"\u001B[39;49m\u001B[43m)\u001B[49m\n\u001B[0;32m      5\u001B[0m     \u001B[38;5;28;01mif\u001B[39;00m keyword\u001B[38;5;241m.\u001B[39mstrip():\n\u001B[0;32m      6\u001B[0m         \u001B[38;5;28;01mreturn\u001B[39;00m analyze_keyword(df, keyword\u001B[38;5;241m.\u001B[39mstrip(), output_dir)\n",
      "File \u001B[1;32mD:\\software\\miniconda3\\envs\\literature-analysis\\lib\\site-packages\\ipykernel\\kernelbase.py:1282\u001B[0m, in \u001B[0;36mKernel.raw_input\u001B[1;34m(self, prompt)\u001B[0m\n\u001B[0;32m   1280\u001B[0m     msg \u001B[38;5;241m=\u001B[39m \u001B[38;5;124m\"\u001B[39m\u001B[38;5;124mraw_input was called, but this frontend does not support input requests.\u001B[39m\u001B[38;5;124m\"\u001B[39m\n\u001B[0;32m   1281\u001B[0m     \u001B[38;5;28;01mraise\u001B[39;00m StdinNotImplementedError(msg)\n\u001B[1;32m-> 1282\u001B[0m \u001B[38;5;28;01mreturn\u001B[39;00m \u001B[38;5;28;43mself\u001B[39;49m\u001B[38;5;241;43m.\u001B[39;49m\u001B[43m_input_request\u001B[49m\u001B[43m(\u001B[49m\n\u001B[0;32m   1283\u001B[0m \u001B[43m    \u001B[49m\u001B[38;5;28;43mstr\u001B[39;49m\u001B[43m(\u001B[49m\u001B[43mprompt\u001B[49m\u001B[43m)\u001B[49m\u001B[43m,\u001B[49m\n\u001B[0;32m   1284\u001B[0m \u001B[43m    \u001B[49m\u001B[38;5;28;43mself\u001B[39;49m\u001B[38;5;241;43m.\u001B[39;49m\u001B[43m_parent_ident\u001B[49m\u001B[43m[\u001B[49m\u001B[38;5;124;43m\"\u001B[39;49m\u001B[38;5;124;43mshell\u001B[39;49m\u001B[38;5;124;43m\"\u001B[39;49m\u001B[43m]\u001B[49m\u001B[43m,\u001B[49m\n\u001B[0;32m   1285\u001B[0m \u001B[43m    \u001B[49m\u001B[38;5;28;43mself\u001B[39;49m\u001B[38;5;241;43m.\u001B[39;49m\u001B[43mget_parent\u001B[49m\u001B[43m(\u001B[49m\u001B[38;5;124;43m\"\u001B[39;49m\u001B[38;5;124;43mshell\u001B[39;49m\u001B[38;5;124;43m\"\u001B[39;49m\u001B[43m)\u001B[49m\u001B[43m,\u001B[49m\n\u001B[0;32m   1286\u001B[0m \u001B[43m    \u001B[49m\u001B[43mpassword\u001B[49m\u001B[38;5;241;43m=\u001B[39;49m\u001B[38;5;28;43;01mFalse\u001B[39;49;00m\u001B[43m,\u001B[49m\n\u001B[0;32m   1287\u001B[0m \u001B[43m\u001B[49m\u001B[43m)\u001B[49m\n",
      "File \u001B[1;32mD:\\software\\miniconda3\\envs\\literature-analysis\\lib\\site-packages\\ipykernel\\kernelbase.py:1325\u001B[0m, in \u001B[0;36mKernel._input_request\u001B[1;34m(self, prompt, ident, parent, password)\u001B[0m\n\u001B[0;32m   1322\u001B[0m \u001B[38;5;28;01mexcept\u001B[39;00m \u001B[38;5;167;01mKeyboardInterrupt\u001B[39;00m:\n\u001B[0;32m   1323\u001B[0m     \u001B[38;5;66;03m# re-raise KeyboardInterrupt, to truncate traceback\u001B[39;00m\n\u001B[0;32m   1324\u001B[0m     msg \u001B[38;5;241m=\u001B[39m \u001B[38;5;124m\"\u001B[39m\u001B[38;5;124mInterrupted by user\u001B[39m\u001B[38;5;124m\"\u001B[39m\n\u001B[1;32m-> 1325\u001B[0m     \u001B[38;5;28;01mraise\u001B[39;00m \u001B[38;5;167;01mKeyboardInterrupt\u001B[39;00m(msg) \u001B[38;5;28;01mfrom\u001B[39;00m\u001B[38;5;250m \u001B[39m\u001B[38;5;28;01mNone\u001B[39;00m\n\u001B[0;32m   1326\u001B[0m \u001B[38;5;28;01mexcept\u001B[39;00m \u001B[38;5;167;01mException\u001B[39;00m:\n\u001B[0;32m   1327\u001B[0m     \u001B[38;5;28mself\u001B[39m\u001B[38;5;241m.\u001B[39mlog\u001B[38;5;241m.\u001B[39mwarning(\u001B[38;5;124m\"\u001B[39m\u001B[38;5;124mInvalid Message:\u001B[39m\u001B[38;5;124m\"\u001B[39m, exc_info\u001B[38;5;241m=\u001B[39m\u001B[38;5;28;01mTrue\u001B[39;00m)\n",
      "\u001B[1;31mKeyboardInterrupt\u001B[0m: Interrupted by user"
     ]
    }
   ],
   "execution_count": 15
  },
  {
   "metadata": {
    "ExecuteTime": {
     "end_time": "2025-05-12T05:49:56.539341Z",
     "start_time": "2025-05-12T05:49:56.483272Z"
    }
   },
   "cell_type": "code",
   "source": [
    "for keyword in insight_keywords:\n",
    "    print(f\"\\n正在分析关键词: {keyword}\")\n",
    "    result = analyze_keyword(df, keyword, output_dir)\n",
    "    display(result)  # 在Jupyter中显示结果"
   ],
   "id": "d6dae0fe63c0275f",
   "outputs": [
    {
     "name": "stdout",
     "output_type": "stream",
     "text": [
      "\n",
      "正在分析关键词: continuous fibers\n",
      "\n",
      "==================================================\n",
      "开始分析关键词: continuous fibers\n",
      "==================================================\n",
      "\n",
      "开始为关键词 'continuous fibers' 创建关系图...\n",
      "找到与 'continuous fibers' 共现的关键词数量: 122\n",
      "共现次数 >= 2 的关键词数量: 20\n",
      "\n",
      "获取关键词 'continuous fibers' 的高引用文章...\n",
      "找到与'continuous fibers'相关的最近3年高引用文章: 5\n",
      "找到与'continuous fibers'相关的其他年份高引用文章: 0\n",
      "分析报告已保存至: ./results/CFpathPlanning101_replaced_synonyms_20250512_13\\continuous_fibers_report.html\n"
     ]
    },
    {
     "data": {
      "text/plain": [
       "<IPython.lib.display.IFrame at 0x25828a7b1c0>"
      ],
      "text/html": [
       "\n",
       "        <iframe\n",
       "            width=\"1000\"\n",
       "            height=\"800\"\n",
       "            src=\"./results/CFpathPlanning101_replaced_synonyms_20250512_13\\continuous_fibers_report.html\"\n",
       "            frameborder=\"0\"\n",
       "            allowfullscreen\n",
       "            \n",
       "        ></iframe>\n",
       "        "
      ]
     },
     "metadata": {},
     "output_type": "display_data"
    },
    {
     "name": "stdout",
     "output_type": "stream",
     "text": [
      "\n",
      "正在分析关键词: path planning method\n",
      "\n",
      "==================================================\n",
      "开始分析关键词: path planning method\n",
      "==================================================\n",
      "\n",
      "开始为关键词 'path planning method' 创建关系图...\n",
      "找到与 'path planning method' 共现的关键词数量: 185\n",
      "共现次数 >= 2 的关键词数量: 27\n",
      "\n",
      "获取关键词 'path planning method' 的高引用文章...\n",
      "找到与'path planning method'相关的最近3年高引用文章: 5\n",
      "找到与'path planning method'相关的其他年份高引用文章: 5\n",
      "分析报告已保存至: ./results/CFpathPlanning101_replaced_synonyms_20250512_13\\path_planning_method_report.html\n"
     ]
    },
    {
     "data": {
      "text/plain": [
       "<IPython.lib.display.IFrame at 0x25811752320>"
      ],
      "text/html": [
       "\n",
       "        <iframe\n",
       "            width=\"1000\"\n",
       "            height=\"800\"\n",
       "            src=\"./results/CFpathPlanning101_replaced_synonyms_20250512_13\\path_planning_method_report.html\"\n",
       "            frameborder=\"0\"\n",
       "            allowfullscreen\n",
       "            \n",
       "        ></iframe>\n",
       "        "
      ]
     },
     "metadata": {},
     "output_type": "display_data"
    },
    {
     "name": "stdout",
     "output_type": "stream",
     "text": [
      "\n",
      "正在分析关键词: robot programming\n",
      "\n",
      "==================================================\n",
      "开始分析关键词: robot programming\n",
      "==================================================\n",
      "\n",
      "开始为关键词 'robot programming' 创建关系图...\n",
      "找到与 'robot programming' 共现的关键词数量: 235\n",
      "共现次数 >= 2 的关键词数量: 27\n",
      "\n",
      "获取关键词 'robot programming' 的高引用文章...\n",
      "找到与'robot programming'相关的最近3年高引用文章: 5\n",
      "找到与'robot programming'相关的其他年份高引用文章: 5\n",
      "分析报告已保存至: ./results/CFpathPlanning101_replaced_synonyms_20250512_13\\robot_programming_report.html\n"
     ]
    },
    {
     "data": {
      "text/plain": [
       "<IPython.lib.display.IFrame at 0x25828a7b670>"
      ],
      "text/html": [
       "\n",
       "        <iframe\n",
       "            width=\"1000\"\n",
       "            height=\"800\"\n",
       "            src=\"./results/CFpathPlanning101_replaced_synonyms_20250512_13\\robot_programming_report.html\"\n",
       "            frameborder=\"0\"\n",
       "            allowfullscreen\n",
       "            \n",
       "        ></iframe>\n",
       "        "
      ]
     },
     "metadata": {},
     "output_type": "display_data"
    },
    {
     "name": "stdout",
     "output_type": "stream",
     "text": [
      "\n",
      "正在分析关键词: optimization\n",
      "\n",
      "==================================================\n",
      "开始分析关键词: optimization\n",
      "==================================================\n",
      "\n",
      "开始为关键词 'optimization' 创建关系图...\n",
      "找到与 'optimization' 共现的关键词数量: 73\n",
      "共现次数 >= 2 的关键词数量: 9\n",
      "\n",
      "获取关键词 'optimization' 的高引用文章...\n",
      "找到与'optimization'相关的最近3年高引用文章: 5\n",
      "找到与'optimization'相关的其他年份高引用文章: 1\n",
      "分析报告已保存至: ./results/CFpathPlanning101_replaced_synonyms_20250512_13\\optimization_report.html\n"
     ]
    },
    {
     "data": {
      "text/plain": [
       "<IPython.lib.display.IFrame at 0x25828a7b1c0>"
      ],
      "text/html": [
       "\n",
       "        <iframe\n",
       "            width=\"1000\"\n",
       "            height=\"800\"\n",
       "            src=\"./results/CFpathPlanning101_replaced_synonyms_20250512_13\\optimization_report.html\"\n",
       "            frameborder=\"0\"\n",
       "            allowfullscreen\n",
       "            \n",
       "        ></iframe>\n",
       "        "
      ]
     },
     "metadata": {},
     "output_type": "display_data"
    },
    {
     "name": "stdout",
     "output_type": "stream",
     "text": [
      "\n",
      "正在分析关键词: topology optimisation\n",
      "\n",
      "==================================================\n",
      "开始分析关键词: topology optimisation\n",
      "==================================================\n",
      "\n",
      "开始为关键词 'topology optimisation' 创建关系图...\n",
      "找到与 'topology optimisation' 共现的关键词数量: 41\n",
      "共现次数 >= 2 的关键词数量: 7\n",
      "\n",
      "获取关键词 'topology optimisation' 的高引用文章...\n",
      "找到与'topology optimisation'相关的最近3年高引用文章: 3\n",
      "找到与'topology optimisation'相关的其他年份高引用文章: 0\n",
      "分析报告已保存至: ./results/CFpathPlanning101_replaced_synonyms_20250512_13\\topology_optimisation_report.html\n"
     ]
    },
    {
     "data": {
      "text/plain": [
       "<IPython.lib.display.IFrame at 0x25811752320>"
      ],
      "text/html": [
       "\n",
       "        <iframe\n",
       "            width=\"1000\"\n",
       "            height=\"800\"\n",
       "            src=\"./results/CFpathPlanning101_replaced_synonyms_20250512_13\\topology_optimisation_report.html\"\n",
       "            frameborder=\"0\"\n",
       "            allowfullscreen\n",
       "            \n",
       "        ></iframe>\n",
       "        "
      ]
     },
     "metadata": {},
     "output_type": "display_data"
    }
   ],
   "execution_count": 16
  },
  {
   "metadata": {},
   "cell_type": "code",
   "outputs": [],
   "execution_count": null,
   "source": "",
   "id": "ce1d1caeea8cf107"
  }
 ],
 "metadata": {
  "kernelspec": {
   "display_name": "Python 3",
   "language": "python",
   "name": "python3"
  },
  "language_info": {
   "codemirror_mode": {
    "name": "ipython",
    "version": 2
   },
   "file_extension": ".py",
   "mimetype": "text/x-python",
   "name": "python",
   "nbconvert_exporter": "python",
   "pygments_lexer": "ipython2",
   "version": "2.7.6"
  }
 },
 "nbformat": 4,
 "nbformat_minor": 5
}
