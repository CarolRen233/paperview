{
 "cells": [
  {
   "metadata": {},
   "cell_type": "markdown",
   "source": [
    "#### 文献关键词探究\n",
    "\n",
    "实现的功能：\n",
    "- 输入想要探究的关键词，生成与该关键词经常同时出现的频率最高的10个关键词\n",
    "- 输出该关键词所有的年份的高引论文5篇和最近3年的高引论文5篇\n",
    "- 输出该关键词发表论文最多的机构\n"
   ],
   "id": "5b6c9cfd0ebb9175"
  },
  {
   "metadata": {
    "collapsed": true,
    "ExecuteTime": {
     "end_time": "2025-05-12T02:37:18.700942Z",
     "start_time": "2025-05-12T02:37:18.656342Z"
    }
   },
   "cell_type": "code",
   "source": [
    "import pandas as pd\n",
    "import numpy as np\n",
    "import os\n",
    "import matplotlib.pyplot as plt\n",
    "import seaborn as sns\n",
    "from datetime import datetime\n",
    "from collections import Counter\n",
    "import re\n",
    "from wordcloud import WordCloud\n",
    "import matplotlib.colors as mcolors\n",
    "from matplotlib.font_manager import FontProperties\n",
    "import warnings\n",
    "warnings.filterwarnings('ignore')\n"
   ],
   "id": "initial_id",
   "outputs": [],
   "execution_count": 1
  },
  {
   "metadata": {
    "ExecuteTime": {
     "end_time": "2025-05-12T02:37:18.993707Z",
     "start_time": "2025-05-12T02:37:18.979531Z"
    }
   },
   "cell_type": "code",
   "source": [
    "# 设置matplotlib中文显示\n",
    "plt.rcParams['font.sans-serif'] = ['SimHei']\n",
    "plt.rcParams['axes.unicode_minus'] = False"
   ],
   "id": "e967ca6443d38ffb",
   "outputs": [],
   "execution_count": 2
  },
  {
   "metadata": {
    "ExecuteTime": {
     "end_time": "2025-05-12T02:37:21.150229Z",
     "start_time": "2025-05-12T02:37:19.349299Z"
    }
   },
   "cell_type": "code",
   "source": [
    "# 下载nltk词库（如果首次使用）\n",
    "import nltk\n",
    "from nltk.corpus import wordnet\n",
    "nltk.download('wordnet')\n",
    "nltk.download('omw-1.4')"
   ],
   "id": "e82db060222ae057",
   "outputs": [
    {
     "name": "stderr",
     "output_type": "stream",
     "text": [
      "[nltk_data] Downloading package wordnet to\n",
      "[nltk_data]     C:\\Users\\admin\\AppData\\Roaming\\nltk_data...\n",
      "[nltk_data]   Package wordnet is already up-to-date!\n",
      "[nltk_data] Downloading package omw-1.4 to\n",
      "[nltk_data]     C:\\Users\\admin\\AppData\\Roaming\\nltk_data...\n",
      "[nltk_data]   Package omw-1.4 is already up-to-date!\n"
     ]
    },
    {
     "data": {
      "text/plain": [
       "True"
      ]
     },
     "execution_count": 3,
     "metadata": {},
     "output_type": "execute_result"
    }
   ],
   "execution_count": 3
  },
  {
   "metadata": {
    "ExecuteTime": {
     "end_time": "2025-05-12T02:37:21.166312Z",
     "start_time": "2025-05-12T02:37:21.158375Z"
    }
   },
   "cell_type": "code",
   "source": [
    "def load_data(file_path):\n",
    "    \"\"\"加载CSV数据文件\"\"\"\n",
    "    df = pd.read_csv(file_path, encoding='utf-8')\n",
    "    print(f\"数据集大小: {df.shape}\")\n",
    "    print(f\"数据集列名: {df.columns.tolist()}\")\n",
    "    return df"
   ],
   "id": "8771a6b75533f380",
   "outputs": [],
   "execution_count": 4
  },
  {
   "metadata": {
    "ExecuteTime": {
     "end_time": "2025-05-12T02:37:22.715814Z",
     "start_time": "2025-05-12T02:37:22.701702Z"
    }
   },
   "cell_type": "code",
   "source": "insight_keywords = ['continuous fibers', 'path planning method', 'robot programming', 'optimization', 'topology optimisation']",
   "id": "c3db4d28cabd509c",
   "outputs": [],
   "execution_count": 5
  },
  {
   "metadata": {
    "ExecuteTime": {
     "end_time": "2025-05-12T02:37:22.747027Z",
     "start_time": "2025-05-12T02:37:22.732247Z"
    }
   },
   "cell_type": "code",
   "source": [
    "file_path = './results/CFpathPlanning101_20250510_17/CFpathPlanning101_replaced_synonyms.csv'\n",
    "save_path = './results'\n",
    "df = load_data(file_path)"
   ],
   "id": "34ec6ee59cdc178d",
   "outputs": [
    {
     "name": "stdout",
     "output_type": "stream",
     "text": [
      "数据集大小: (101, 26)\n",
      "数据集列名: ['作者', 'Author full names', '作者 ID', '文献标题', '年份', '来源出版物名称', '卷', '期', '论文编号', '起始页码', '结束页码', '页码计数', '施引文献', 'DOI', '链接', '归属机构', '带归属机构的作者', '摘要', '作者关键字', '索引关键字', '通讯地址', '文献类型', '出版阶段', '开放获取', '来源出版物', 'EID']\n"
     ]
    }
   ],
   "execution_count": 6
  },
  {
   "metadata": {
    "ExecuteTime": {
     "end_time": "2025-05-12T02:37:22.778475Z",
     "start_time": "2025-05-12T02:37:22.763397Z"
    }
   },
   "cell_type": "code",
   "source": [
    "base_filename = os.path.basename(file_path)\n",
    "file_name_without_ext = os.path.splitext(base_filename)[0]\n",
    "timestamp = datetime.now().strftime(\"%Y%m%d_%H\")\n",
    "output_dir = f\"{save_path}/{file_name_without_ext}_{timestamp}\"\n",
    "\n",
    "if not os.path.exists(output_dir):\n",
    "    os.makedirs(output_dir)\n",
    "    print(f\"创建输出目录: {output_dir}\")\n"
   ],
   "id": "87d744f21abfbc33",
   "outputs": [],
   "execution_count": 7
  },
  {
   "metadata": {
    "ExecuteTime": {
     "end_time": "2025-05-12T02:37:22.809326Z",
     "start_time": "2025-05-12T02:37:22.794838Z"
    }
   },
   "cell_type": "code",
   "source": [
    "def clean_keywords(keywords_str):\n",
    "    \"\"\"清理关键词字符串并返回关键词列表\"\"\"\n",
    "    if pd.isna(keywords_str) or keywords_str == '':\n",
    "        return []\n",
    "    # 移除引号和额外的空格，并拆分成列表\n",
    "    return [k.strip().lower() for k in re.split(r'[;,]', str(keywords_str)) if k.strip()]"
   ],
   "id": "d36daedcf3e35993",
   "outputs": [],
   "execution_count": 8
  },
  {
   "metadata": {
    "ExecuteTime": {
     "end_time": "2025-05-12T02:37:22.840323Z",
     "start_time": "2025-05-12T02:37:22.825811Z"
    }
   },
   "cell_type": "code",
   "source": [
    "def extract_all_keywords(df):\n",
    "    \"\"\"从作者关键词和索引关键词中提取所有关键词\"\"\"\n",
    "    author_keywords = []\n",
    "    for keywords in df['作者关键字'].dropna():\n",
    "        author_keywords.extend(clean_keywords(keywords))\n",
    "\n",
    "    index_keywords = []\n",
    "    for keywords in df['索引关键字'].dropna():\n",
    "        index_keywords.extend(clean_keywords(keywords))\n",
    "\n",
    "    # 合并两种关键词\n",
    "    all_keywords = author_keywords + index_keywords\n",
    "    return all_keywords"
   ],
   "id": "c4ec487eccbd5a04",
   "outputs": [],
   "execution_count": 9
  },
  {
   "metadata": {
    "ExecuteTime": {
     "end_time": "2025-05-12T02:37:22.870413Z",
     "start_time": "2025-05-12T02:37:22.855376Z"
    }
   },
   "cell_type": "code",
   "source": [
    "def find_cooccurring_keywords(df, target_keyword, top_n=10):\n",
    "    \"\"\"找到与目标关键词经常共现的其他关键词\"\"\"\n",
    "    cooccurring_keywords = []\n",
    "\n",
    "    # 创建一个包含作者关键词和索引关键词的列\n",
    "    df['all_keywords'] = df.apply(\n",
    "        lambda row: clean_keywords(str(row['作者关键字'])) + clean_keywords(str(row['索引关键字'])),\n",
    "        axis=1\n",
    "    )\n",
    "\n",
    "    # 筛选包含目标关键词的文章\n",
    "    target_keyword_lower = target_keyword.lower()\n",
    "    relevant_papers = df[df['all_keywords'].apply(lambda keywords: target_keyword_lower in [k.lower() for k in keywords])]\n",
    "\n",
    "    print(f\"包含关键词 '{target_keyword}' 的论文数量: {len(relevant_papers)}\")\n",
    "\n",
    "    if len(relevant_papers) == 0:\n",
    "        return []\n",
    "\n",
    "    # 从这些论文中提取所有其他关键词并计数\n",
    "    for keywords in relevant_papers['all_keywords']:\n",
    "        keywords_without_target = [k for k in keywords if k.lower() != target_keyword_lower]\n",
    "        cooccurring_keywords.extend(keywords_without_target)\n",
    "\n",
    "    # 计算频率\n",
    "    keyword_counts = Counter(cooccurring_keywords)\n",
    "\n",
    "    # 筛选出现次数大于等于2的关键词\n",
    "    filtered_keyword_counts = Counter({k: v for k, v in keyword_counts.items() if v >= 2})\n",
    "\n",
    "    # 如果没有符合条件的关键词，返回空列表\n",
    "    if not filtered_keyword_counts:\n",
    "        return []\n",
    "\n",
    "    # 返回出现频率最高的top_n个关键词\n",
    "    top_keywords_with_counts = filtered_keyword_counts.most_common(top_n)\n",
    "\n",
    "    return top_keywords_with_counts\n"
   ],
   "id": "84dabccfe3983961",
   "outputs": [],
   "execution_count": 10
  },
  {
   "metadata": {
    "ExecuteTime": {
     "end_time": "2025-05-12T02:37:22.901048Z",
     "start_time": "2025-05-12T02:37:22.886888Z"
    }
   },
   "cell_type": "code",
   "source": [
    "def find_highly_cited_papers(df, target_keyword, top_n=5):\n",
    "    \"\"\"获取关键词相关的高引论文\"\"\"\n",
    "    # 创建一个包含作者关键词和索引关键词的列\n",
    "    if 'all_keywords' not in df.columns:\n",
    "        df['all_keywords'] = df.apply(\n",
    "            lambda row: clean_keywords(str(row['作者关键字'])) + clean_keywords(str(row['索引关键字'])),\n",
    "            axis=1\n",
    "        )\n",
    "\n",
    "    # 筛选包含目标关键词的文章\n",
    "    target_keyword_lower = target_keyword.lower()\n",
    "    relevant_papers = df[df['all_keywords'].apply(lambda keywords: target_keyword_lower in [k.lower() for k in keywords])]\n",
    "\n",
    "    if len(relevant_papers) == 0:\n",
    "        return pd.DataFrame(), pd.DataFrame()\n",
    "\n",
    "    # 将'施引文献'转换为数值型\n",
    "    relevant_papers['citation_count'] = pd.to_numeric(relevant_papers['施引文献'], errors='coerce').fillna(0)\n",
    "\n",
    "    # 按引用次数排序\n",
    "    all_time_top_papers = relevant_papers.sort_values('citation_count', ascending=False).head(top_n)\n",
    "\n",
    "    # 获取当前年份\n",
    "    current_year = datetime.now().year\n",
    "\n",
    "    # 筛选最近3年的论文\n",
    "    recent_papers = relevant_papers[relevant_papers['年份'] >= current_year - 3]\n",
    "    recent_top_papers = recent_papers.sort_values('citation_count', ascending=False).head(top_n)\n",
    "\n",
    "    return all_time_top_papers, recent_top_papers"
   ],
   "id": "197089ad4b32bbc2",
   "outputs": [],
   "execution_count": 11
  },
  {
   "metadata": {
    "ExecuteTime": {
     "end_time": "2025-05-12T02:37:22.931627Z",
     "start_time": "2025-05-12T02:37:22.916183Z"
    }
   },
   "cell_type": "code",
   "source": [
    "def find_top_institutions(df, target_keyword, top_n=10):\n",
    "    \"\"\"找到发表与关键词相关论文最多的机构\"\"\"\n",
    "    # 创建一个包含作者关键词和索引关键词的列\n",
    "    if 'all_keywords' not in df.columns:\n",
    "        df['all_keywords'] = df.apply(\n",
    "            lambda row: clean_keywords(str(row['作者关键字'])) + clean_keywords(str(row['索引关键字'])),\n",
    "            axis=1\n",
    "        )\n",
    "\n",
    "    # 筛选包含目标关键词的文章\n",
    "    target_keyword_lower = target_keyword.lower()\n",
    "    relevant_papers = df[df['all_keywords'].apply(lambda keywords: target_keyword_lower in [k.lower() for k in keywords])]\n",
    "\n",
    "    if len(relevant_papers) == 0:\n",
    "        return []\n",
    "\n",
    "    # 提取所有机构\n",
    "    all_institutions = []\n",
    "    for affiliation in relevant_papers['归属机构'].dropna():\n",
    "        # 使用分号拆分多个机构\n",
    "        institutions = [inst.strip() for inst in str(affiliation).split(';') if inst.strip()]\n",
    "        all_institutions.extend(institutions)\n",
    "\n",
    "    # 统计每个机构的论文数量\n",
    "    institution_counts = Counter(all_institutions)\n",
    "\n",
    "    # 返回发表论文最多的top_n个机构\n",
    "    top_institutions = institution_counts.most_common(top_n)\n",
    "\n",
    "    return top_institutions"
   ],
   "id": "818eba79a23565d2",
   "outputs": [],
   "execution_count": 12
  },
  {
   "metadata": {
    "ExecuteTime": {
     "end_time": "2025-05-12T02:37:22.977260Z",
     "start_time": "2025-05-12T02:37:22.963128Z"
    }
   },
   "cell_type": "code",
   "source": [
    "def generate_keyword_report(df, keyword, output_dir):\n",
    "    \"\"\"为指定关键词生成分析报告\"\"\"\n",
    "    # 创建报告文件名\n",
    "    report_filename = f\"{output_dir}/keyword_analysis_{keyword.replace(' ', '_')}.txt\"\n",
    "\n",
    "    # 查找共现关键词\n",
    "    cooccurring_keywords = find_cooccurring_keywords(df, keyword)\n",
    "\n",
    "    # 查找高引论文\n",
    "    all_time_top_papers, recent_top_papers = find_highly_cited_papers(df, keyword)\n",
    "\n",
    "    # 查找顶级机构\n",
    "    top_institutions = find_top_institutions(df, keyword)\n",
    "\n",
    "    # 生成报告\n",
    "    with open(report_filename, 'w', encoding='utf-8') as f:\n",
    "        f.write(f\"Keyword Analysis Report: '{keyword}'\\n\")\n",
    "        f.write(\"=\" * 60 + \"\\n\\n\")\n",
    "\n",
    "        # 1. 写入共现关键词\n",
    "        f.write(\"# 1. Top 10 Co-occurring Keywords:\\n\")\n",
    "        f.write(\"-\" * 40 + \"\\n\")\n",
    "        if cooccurring_keywords:\n",
    "            for i, (kw, count) in enumerate(cooccurring_keywords, 1):\n",
    "                f.write(f\"{i}. {kw} (Count: {count})\\n\")\n",
    "        else:\n",
    "            f.write(\"No co-occurring keywords found.\\n\")\n",
    "        f.write(\"\\n\")\n",
    "\n",
    "        # 2. 写入所有时期的高引论文\n",
    "        f.write(\"# 2. Top 5 Highly Cited Papers (All Time):\\n\")\n",
    "        f.write(\"-\" * 40 + \"\\n\")\n",
    "        if not all_time_top_papers.empty:\n",
    "            for i, (_, paper) in enumerate(all_time_top_papers.iterrows(), 1):\n",
    "                f.write(f\"{i}. Title: {paper['文献标题']}\\n\")\n",
    "                f.write(f\"   Authors: {paper['作者'] if not pd.isna(paper['作者']) else 'N/A'}\\n\")\n",
    "                f.write(f\"   Year: {paper['年份']}\\n\")\n",
    "                f.write(f\"   Citations: {int(paper['citation_count'])}\\n\")\n",
    "                f.write(f\"   DOI: {paper['DOI'] if not pd.isna(paper['DOI']) else 'N/A'}\\n\")\n",
    "        else:\n",
    "            f.write(\"No papers found.\\n\")\n",
    "\n",
    "        # 3. 写入近3年的高引论文\n",
    "        current_year = datetime.now().year\n",
    "        f.write(f\"# 3. Top 5 Highly Cited Papers (Last 3 Years, {current_year-3}-{current_year}):\\n\")\n",
    "        f.write(\"-\" * 40 + \"\\n\")\n",
    "        if not recent_top_papers.empty:\n",
    "            for i, (_, paper) in enumerate(recent_top_papers.iterrows(), 1):\n",
    "                f.write(f\"{i}. Title: {paper['文献标题']}\\n\")\n",
    "                f.write(f\"   Authors: {paper['作者'] if not pd.isna(paper['作者']) else 'N/A'}\\n\")\n",
    "                f.write(f\"   Year: {paper['年份']}\\n\")\n",
    "                f.write(f\"   Citations: {int(paper['citation_count'])}\\n\")\n",
    "                f.write(f\"   DOI: {paper['DOI'] if not pd.isna(paper['DOI']) else 'N/A'}\\n\")\n",
    "        else:\n",
    "            f.write(\"No recent papers found.\\n\")\n",
    "\n",
    "        # 4. 写入顶级机构\n",
    "        f.write(\"# 4. Top Institutions Publishing Papers on this Keyword:\\n\")\n",
    "        f.write(\"-\" * 40 + \"\\n\")\n",
    "        if top_institutions:\n",
    "            for i, (inst, count) in enumerate(top_institutions, 1):\n",
    "                f.write(f\"{i}. {inst} (Paper Count: {count})\\n\")\n",
    "        else:\n",
    "            f.write(\"No institution data available.\\n\")\n",
    "\n",
    "    print(f\"报告已生成: {report_filename}\")\n",
    "\n",
    "    # 返回报告路径和生成的图表路径\n",
    "    return report_filename"
   ],
   "id": "5a53dbb9f36ca74f",
   "outputs": [],
   "execution_count": 13
  },
  {
   "metadata": {
    "ExecuteTime": {
     "end_time": "2025-05-12T02:37:22.993076Z",
     "start_time": "2025-05-12T02:37:22.979163Z"
    }
   },
   "cell_type": "code",
   "source": [
    "\n",
    "def analyze_multiple_keywords(df, keywords, output_dir):\n",
    "    \"\"\"分析多个关键词并生成报告\"\"\"\n",
    "    results = []\n",
    "\n",
    "    for keyword in keywords:\n",
    "        print(f\"\\n正在分析关键词: {keyword}\")\n",
    "        report_path = generate_keyword_report(df, keyword, output_dir)\n",
    "        results.append((keyword, report_path))\n",
    "\n",
    "    return results"
   ],
   "id": "e4b731352132e820",
   "outputs": [],
   "execution_count": 14
  },
  {
   "metadata": {
    "ExecuteTime": {
     "end_time": "2025-05-12T02:37:23.039373Z",
     "start_time": "2025-05-12T02:37:23.010154Z"
    }
   },
   "cell_type": "code",
   "source": "results = analyze_multiple_keywords(df, insight_keywords, output_dir)",
   "id": "2a7486b752bfc132",
   "outputs": [
    {
     "name": "stdout",
     "output_type": "stream",
     "text": [
      "\n",
      "正在分析关键词: continuous fibers\n",
      "包含关键词 'continuous fibers' 的论文数量: 10\n",
      "报告已生成: ./results/CFpathPlanning101_replaced_synonyms_20250512_10/keyword_analysis_continuous_fibers.txt\n",
      "\n",
      "正在分析关键词: path planning method\n",
      "包含关键词 'path planning method' 的论文数量: 16\n",
      "报告已生成: ./results/CFpathPlanning101_replaced_synonyms_20250512_10/keyword_analysis_path_planning_method.txt\n",
      "\n",
      "正在分析关键词: robot programming\n",
      "包含关键词 'robot programming' 的论文数量: 15\n",
      "报告已生成: ./results/CFpathPlanning101_replaced_synonyms_20250512_10/keyword_analysis_robot_programming.txt\n",
      "\n",
      "正在分析关键词: optimization\n",
      "包含关键词 'optimization' 的论文数量: 6\n",
      "报告已生成: ./results/CFpathPlanning101_replaced_synonyms_20250512_10/keyword_analysis_optimization.txt\n",
      "\n",
      "正在分析关键词: topology optimisation\n",
      "包含关键词 'topology optimisation' 的论文数量: 3\n",
      "报告已生成: ./results/CFpathPlanning101_replaced_synonyms_20250512_10/keyword_analysis_topology_optimisation.txt\n"
     ]
    }
   ],
   "execution_count": 15
  },
  {
   "metadata": {
    "ExecuteTime": {
     "end_time": "2025-05-12T02:37:23.069204Z",
     "start_time": "2025-05-12T02:37:23.056097Z"
    }
   },
   "cell_type": "code",
   "source": [
    "    html_source_files = []\n",
    "    print(\"\\n分析完成！生成的报告:\")\n",
    "    for keyword, report_path in results:\n",
    "        print(f\"- {keyword}: {report_path}\")\n",
    "        html_source_files.append(report_path)"
   ],
   "id": "d40ba00bdc968bfe",
   "outputs": [
    {
     "name": "stdout",
     "output_type": "stream",
     "text": [
      "\n",
      "分析完成！生成的报告:\n",
      "- continuous fibers: ./results/CFpathPlanning101_replaced_synonyms_20250512_10/keyword_analysis_continuous_fibers.txt\n",
      "- path planning method: ./results/CFpathPlanning101_replaced_synonyms_20250512_10/keyword_analysis_path_planning_method.txt\n",
      "- robot programming: ./results/CFpathPlanning101_replaced_synonyms_20250512_10/keyword_analysis_robot_programming.txt\n",
      "- optimization: ./results/CFpathPlanning101_replaced_synonyms_20250512_10/keyword_analysis_optimization.txt\n",
      "- topology optimisation: ./results/CFpathPlanning101_replaced_synonyms_20250512_10/keyword_analysis_topology_optimisation.txt\n"
     ]
    }
   ],
   "execution_count": 16
  },
  {
   "metadata": {
    "ExecuteTime": {
     "end_time": "2025-05-12T02:37:23.099537Z",
     "start_time": "2025-05-12T02:37:23.085462Z"
    }
   },
   "cell_type": "code",
   "source": "",
   "id": "2b78c0b9eb65c7d6",
   "outputs": [],
   "execution_count": null
  },
  {
   "metadata": {},
   "cell_type": "code",
   "outputs": [],
   "execution_count": null,
   "source": "",
   "id": "c2f589483a14c705"
  }
 ],
 "metadata": {
  "kernelspec": {
   "display_name": "Python 3",
   "language": "python",
   "name": "python3"
  },
  "language_info": {
   "codemirror_mode": {
    "name": "ipython",
    "version": 2
   },
   "file_extension": ".py",
   "mimetype": "text/x-python",
   "name": "python",
   "nbconvert_exporter": "python",
   "pygments_lexer": "ipython2",
   "version": "2.7.6"
  }
 },
 "nbformat": 4,
 "nbformat_minor": 5
}
