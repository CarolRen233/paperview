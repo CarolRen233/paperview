{
 "cells": [
  {
   "metadata": {},
   "cell_type": "markdown",
   "source": [
    "#### 文献关键词画图\n",
    "\n"
   ],
   "id": "5b6c9cfd0ebb9175"
  },
  {
   "metadata": {
    "collapsed": true,
    "ExecuteTime": {
     "end_time": "2025-05-12T03:35:49.907334Z",
     "start_time": "2025-05-12T03:35:49.883982Z"
    }
   },
   "cell_type": "code",
   "source": [
    "# 导入必要的库\n",
    "import pandas as pd\n",
    "import numpy as np\n",
    "import os\n",
    "import matplotlib.pyplot as plt\n",
    "import seaborn as sns\n",
    "from datetime import datetime\n",
    "from collections import Counter, defaultdict\n",
    "import re\n",
    "from wordcloud import WordCloud\n",
    "import matplotlib.colors as mcolors\n",
    "from matplotlib.font_manager import FontProperties\n",
    "from pyecharts import options as opts\n",
    "from pyecharts.charts import Graph\n",
    "from IPython.display import display, HTML, IFrame\n",
    "import json\n",
    "import warnings\n",
    "\n",
    "warnings.filterwarnings('ignore')"
   ],
   "id": "initial_id",
   "outputs": [],
   "execution_count": 23
  },
  {
   "metadata": {
    "ExecuteTime": {
     "end_time": "2025-05-12T03:17:00.150378Z",
     "start_time": "2025-05-12T03:17:00.136327Z"
    }
   },
   "cell_type": "code",
   "execution_count": 4,
   "source": [
    "# 设置matplotlib中文显示\n",
    "plt.rcParams['font.sans-serif'] = ['SimHei']\n",
    "plt.rcParams['axes.unicode_minus'] = False"
   ],
   "id": "e967ca6443d38ffb",
   "outputs": []
  },
  {
   "metadata": {
    "ExecuteTime": {
     "end_time": "2025-05-12T03:17:01.756942Z",
     "start_time": "2025-05-12T03:17:00.399034Z"
    }
   },
   "cell_type": "code",
   "execution_count": 5,
   "source": [
    "# 下载nltk词库（如果首次使用）\n",
    "import nltk\n",
    "from nltk.corpus import wordnet\n",
    "nltk.download('wordnet')\n",
    "nltk.download('omw-1.4')"
   ],
   "id": "e82db060222ae057",
   "outputs": []
  },
  {
   "metadata": {
    "ExecuteTime": {
     "end_time": "2025-05-12T03:35:54.467093Z",
     "start_time": "2025-05-12T03:35:54.460313Z"
    }
   },
   "cell_type": "code",
   "source": [
    "def load_data(file_path):\n",
    "    \"\"\"加载CSV数据文件\"\"\"\n",
    "    df = pd.read_csv(file_path, encoding='utf-8')\n",
    "    print(f\"数据集大小: {df.shape}\")\n",
    "    print(f\"数据集列名: {df.columns.tolist()}\")\n",
    "    return df"
   ],
   "id": "8771a6b75533f380",
   "outputs": [],
   "execution_count": 24
  },
  {
   "metadata": {
    "ExecuteTime": {
     "end_time": "2025-05-12T03:35:54.795138Z",
     "start_time": "2025-05-12T03:35:54.789138Z"
    }
   },
   "cell_type": "code",
   "source": "insight_keywords = ['continuous fibers', 'path planning method', 'robot programming', 'optimization', 'topology optimisation']",
   "id": "c3db4d28cabd509c",
   "outputs": [],
   "execution_count": 25
  },
  {
   "metadata": {
    "ExecuteTime": {
     "end_time": "2025-05-12T03:35:55.293362Z",
     "start_time": "2025-05-12T03:35:55.282362Z"
    }
   },
   "cell_type": "code",
   "source": [
    "file_path = './results/CFpathPlanning101_20250510_17/CFpathPlanning101_replaced_synonyms.csv'\n",
    "save_path = './results'\n",
    "df = load_data(file_path)"
   ],
   "id": "34ec6ee59cdc178d",
   "outputs": [
    {
     "name": "stdout",
     "output_type": "stream",
     "text": [
      "数据集大小: (101, 26)\n",
      "数据集列名: ['作者', 'Author full names', '作者 ID', '文献标题', '年份', '来源出版物名称', '卷', '期', '论文编号', '起始页码', '结束页码', '页码计数', '施引文献', 'DOI', '链接', '归属机构', '带归属机构的作者', '摘要', '作者关键字', '索引关键字', '通讯地址', '文献类型', '出版阶段', '开放获取', '来源出版物', 'EID']\n"
     ]
    }
   ],
   "execution_count": 26
  },
  {
   "metadata": {
    "ExecuteTime": {
     "end_time": "2025-05-12T03:35:56.548080Z",
     "start_time": "2025-05-12T03:35:56.533600Z"
    }
   },
   "cell_type": "code",
   "source": [
    "base_filename = os.path.basename(file_path)\n",
    "file_name_without_ext = os.path.splitext(base_filename)[0]\n",
    "timestamp = datetime.now().strftime(\"%Y%m%d_%H\")\n",
    "output_dir = f\"{save_path}/{file_name_without_ext}_{timestamp}\"\n",
    "\n",
    "if not os.path.exists(output_dir):\n",
    "    os.makedirs(output_dir)\n",
    "    print(f\"创建输出目录: {output_dir}\")\n"
   ],
   "id": "87d744f21abfbc33",
   "outputs": [],
   "execution_count": 27
  },
  {
   "metadata": {
    "ExecuteTime": {
     "end_time": "2025-05-12T03:20:22.836889Z",
     "start_time": "2025-05-12T03:20:22.822743Z"
    }
   },
   "cell_type": "code",
   "source": [
    "# 定义函数来为特定关键词创建关系图\n",
    "def create_keyword_graph(df, target_keyword, output_dir, top_related=30, min_co_occurrence=2):\n",
    "    \"\"\"\n",
    "    为目标关键词创建关系图\n",
    "\n",
    "    参数:\n",
    "    - df: 包含文献数据的DataFrame\n",
    "    - target_keyword: 要分析的目标关键词\n",
    "    - output_dir: 输出文件保存目录\n",
    "    - top_related: 要包含的相关关键词数量\n",
    "    - min_co_occurrence: 最小共现次数阈值\n",
    "    \"\"\"\n",
    "    print(f\"\\n开始为关键词 '{target_keyword}' 创建关系图...\")\n",
    "\n",
    "    # 获取关键词与其他关键词的共现关系\n",
    "    keyword_relations = defaultdict(Counter)\n",
    "\n",
    "    # 分析每篇文献中关键词的共现情况\n",
    "    for _, row in df.iterrows():\n",
    "        # 获取文献的关键词列表\n",
    "        keywords = []\n",
    "\n",
    "        # 从作者关键字和索引关键字中提取\n",
    "        for col in ['作者关键字', '索引关键字']:\n",
    "            if col in df.columns and isinstance(row[col], str) and row[col].strip():\n",
    "                # 分割关键词\n",
    "                kws = [k.strip().lower() for k in re.split(r'[;,，；]', row[col]) if k.strip()]\n",
    "                keywords.extend(kws)\n",
    "\n",
    "        # 去重\n",
    "        keywords = list(set(keywords))\n",
    "\n",
    "        # 如果关键词列表中包含目标关键词\n",
    "        if target_keyword.lower() in [k.lower() for k in keywords]:\n",
    "            # 更新共现计数\n",
    "            for i, kw1 in enumerate(keywords):\n",
    "                for j, kw2 in enumerate(keywords):\n",
    "                    if i != j:  # 避免自身与自身的关系\n",
    "                        keyword_relations[kw1.lower()][kw2.lower()] += 1\n",
    "\n",
    "    # 检查目标关键词是否被找到\n",
    "    if target_keyword.lower() not in keyword_relations:\n",
    "        print(f\"在数据集中未找到关键词 '{target_keyword}'\")\n",
    "        return None\n",
    "\n",
    "    # 获取与目标关键词共现最多的关键词\n",
    "    related_keywords = keyword_relations[target_keyword.lower()]\n",
    "    print(f\"找到与 '{target_keyword}' 共现的关键词数量: {len(related_keywords)}\")\n",
    "\n",
    "    # 过滤掉共现次数低于阈值的关键词\n",
    "    filtered_related = {k: v for k, v in related_keywords.items() if v >= min_co_occurrence}\n",
    "    print(f\"共现次数 >= {min_co_occurrence} 的关键词数量: {len(filtered_related)}\")\n",
    "\n",
    "    # 获取前N个最相关的关键词\n",
    "    top_keywords = [k for k, _ in sorted(filtered_related.items(), key=lambda x: x[1], reverse=True)[:top_related]]\n",
    "\n",
    "    # 添加目标关键词\n",
    "    top_keywords = [target_keyword.lower()] + [k for k in top_keywords if k != target_keyword.lower()]\n",
    "\n",
    "    # 构建节点和边\n",
    "    nodes = []\n",
    "    links = []\n",
    "\n",
    "    # 添加目标关键词作为中心节点\n",
    "    nodes.append({\n",
    "        \"id\": target_keyword.lower(),\n",
    "        \"name\": target_keyword,\n",
    "        \"symbolSize\": 50,  # 较大的节点大小\n",
    "        \"value\": sum(related_keywords.values()),  # 值为总共现次数\n",
    "        \"category\": 0,  # 中心节点类别\n",
    "        \"itemStyle\": {\"color\": \"#FF0000\"}  # 红色\n",
    "    })\n",
    "\n",
    "    # 添加相关关键词节点\n",
    "    for i, kw in enumerate(top_keywords[1:], 1):  # 跳过中心节点\n",
    "        # 计算节点大小（基于共现次数）\n",
    "        size = max(20, min(40, 15 + filtered_related[kw] * 2))\n",
    "\n",
    "        nodes.append({\n",
    "            \"id\": kw,\n",
    "            \"name\": kw,\n",
    "            \"symbolSize\": size,\n",
    "            \"value\": filtered_related[kw],\n",
    "            \"category\": 1,  # 关联节点类别\n",
    "        })\n",
    "\n",
    "        # 添加与中心节点的连接\n",
    "        links.append({\n",
    "            \"source\": target_keyword.lower(),\n",
    "            \"target\": kw,\n",
    "            \"value\": filtered_related[kw]\n",
    "        })\n",
    "\n",
    "    # 添加关键词之间的连接\n",
    "    for i, kw1 in enumerate(top_keywords[1:], 1):\n",
    "        for j, kw2 in enumerate(top_keywords[1:], 1):\n",
    "            if i < j:  # 避免重复连接\n",
    "                co_occurrence = keyword_relations[kw1][kw2]\n",
    "                if co_occurrence >= min_co_occurrence:\n",
    "                    links.append({\n",
    "                        \"source\": kw1,\n",
    "                        \"target\": kw2,\n",
    "                        \"value\": co_occurrence\n",
    "                    })\n",
    "\n",
    "    # 创建类别\n",
    "    categories = [\n",
    "        {\"name\": \"中心关键词\"},\n",
    "        {\"name\": \"相关关键词\"}\n",
    "    ]\n",
    "\n",
    "    # 创建ECharts图表\n",
    "    c = (\n",
    "        Graph(init_opts=opts.InitOpts(width=\"900px\", height=\"700px\", theme=ThemeType.LIGHT))\n",
    "        .add(\n",
    "            \"\",\n",
    "            nodes=nodes,\n",
    "            links=links,\n",
    "            categories=categories,\n",
    "            layout=\"force\",\n",
    "            is_roam=True,\n",
    "            is_focusnode=True,\n",
    "            is_rotate_label=True,\n",
    "            is_draggable=True,\n",
    "            linestyle_opts=opts.LineStyleOpts(width=1.5, curve=0.3, opacity=0.8),\n",
    "            label_opts=opts.LabelOpts(is_show=True, position=\"right\", font_size=12),\n",
    "            repulsion=800,\n",
    "            edge_symbol=[\"none\", \"arrow\"],\n",
    "            gravity=0.2,\n",
    "            edge_length=120,\n",
    "        )\n",
    "        .set_global_opts(\n",
    "            title_opts=opts.TitleOpts(title=f\"关键词 '{target_keyword}' 关系图\"),\n",
    "            tooltip_opts=opts.TooltipOpts(\n",
    "                trigger=\"item\",\n",
    "                formatter=\"{a} <br/>{b} : {c}\"\n",
    "            ),\n",
    "            legend_opts=opts.LegendOpts(\n",
    "                orient=\"vertical\",\n",
    "                pos_left=\"2%\",\n",
    "                pos_top=\"20%\",\n",
    "                is_show=True\n",
    "            )\n",
    "        )\n",
    "    )\n",
    "\n",
    "    # 保存为HTML文件\n",
    "    output_file = os.path.join(output_dir, f\"{target_keyword.replace(' ', '_')}_relation_graph.html\")\n",
    "    c.render(output_file)\n",
    "    print(f\"关系图已保存至: {output_file}\")\n",
    "\n",
    "    # 在Jupyter中显示\n",
    "    IFrame(output_file, width=1000, height=800)\n",
    "\n",
    "    return output_file"
   ],
   "id": "25e2e4d7ab73f7bd",
   "outputs": [],
   "execution_count": 16
  },
  {
   "metadata": {
    "ExecuteTime": {
     "end_time": "2025-05-12T03:20:23.067595Z",
     "start_time": "2025-05-12T03:20:23.053486Z"
    }
   },
   "cell_type": "code",
   "source": [
    "# 分析单个关键词的函数\n",
    "def analyze_keyword(df, keyword, output_dir):\n",
    "    \"\"\"分析单个关键词并生成关系图\"\"\"\n",
    "    print(f\"\\n{'='*50}\\n开始分析关键词: {keyword}\\n{'='*50}\")\n",
    "\n",
    "    # 创建关键词关系图\n",
    "    graph_file = create_keyword_graph(df, keyword, output_dir)\n",
    "\n",
    "    if graph_file:\n",
    "        return IFrame(graph_file, width=1000, height=800)\n",
    "    else:\n",
    "        return None"
   ],
   "id": "90e5ccad51adfe57",
   "outputs": [],
   "execution_count": 17
  },
  {
   "metadata": {
    "ExecuteTime": {
     "end_time": "2025-05-12T03:20:23.222717Z",
     "start_time": "2025-05-12T03:20:23.214492Z"
    }
   },
   "cell_type": "code",
   "source": [
    "# 分析关键词列表的函数\n",
    "def analyze_keywords(df, keywords_list, output_dir):\n",
    "    \"\"\"依次分析多个关键词并生成关系图\"\"\"\n",
    "    results = {}\n",
    "\n",
    "    for keyword in keywords_list:\n",
    "        result = analyze_keyword(df, keyword, output_dir)\n",
    "        results[keyword] = result\n",
    "\n",
    "    return results"
   ],
   "id": "45da9a128d5c5f0b",
   "outputs": [],
   "execution_count": 18
  },
  {
   "metadata": {
    "ExecuteTime": {
     "end_time": "2025-05-12T03:20:23.438818Z",
     "start_time": "2025-05-12T03:20:23.424376Z"
    }
   },
   "cell_type": "code",
   "source": [
    "# 对单个关键词进行分析的函数\n",
    "def run_analysis_for_keyword():\n",
    "    \"\"\"交互式输入一个关键词并进行分析\"\"\"\n",
    "    keyword = input(\"请输入要分析的关键词: \")\n",
    "    if keyword.strip():\n",
    "        return analyze_keyword(df, keyword.strip(), output_dir)\n",
    "    else:\n",
    "        print(\"未输入关键词\")\n",
    "        return None"
   ],
   "id": "e8e4142121f72ef5",
   "outputs": [],
   "execution_count": 19
  },
  {
   "metadata": {
    "ExecuteTime": {
     "end_time": "2025-05-12T03:20:25.401780Z",
     "start_time": "2025-05-12T03:20:23.568758Z"
    }
   },
   "cell_type": "code",
   "source": [
    "# 运行单个关键词分析\n",
    "result = run_analysis_for_keyword()"
   ],
   "id": "5af00c0aa07dd12f",
   "outputs": [
    {
     "ename": "KeyboardInterrupt",
     "evalue": "Interrupted by user",
     "output_type": "error",
     "traceback": [
      "\u001B[1;31m---------------------------------------------------------------------------\u001B[0m",
      "\u001B[1;31mKeyboardInterrupt\u001B[0m                         Traceback (most recent call last)",
      "Cell \u001B[1;32mIn[20], line 2\u001B[0m\n\u001B[0;32m      1\u001B[0m \u001B[38;5;66;03m# 运行单个关键词分析\u001B[39;00m\n\u001B[1;32m----> 2\u001B[0m result \u001B[38;5;241m=\u001B[39m \u001B[43mrun_analysis_for_keyword\u001B[49m\u001B[43m(\u001B[49m\u001B[43m)\u001B[49m\n",
      "Cell \u001B[1;32mIn[19], line 4\u001B[0m, in \u001B[0;36mrun_analysis_for_keyword\u001B[1;34m()\u001B[0m\n\u001B[0;32m      2\u001B[0m \u001B[38;5;28;01mdef\u001B[39;00m\u001B[38;5;250m \u001B[39m\u001B[38;5;21mrun_analysis_for_keyword\u001B[39m():\n\u001B[0;32m      3\u001B[0m \u001B[38;5;250m    \u001B[39m\u001B[38;5;124;03m\"\"\"交互式输入一个关键词并进行分析\"\"\"\u001B[39;00m\n\u001B[1;32m----> 4\u001B[0m     keyword \u001B[38;5;241m=\u001B[39m \u001B[38;5;28;43minput\u001B[39;49m\u001B[43m(\u001B[49m\u001B[38;5;124;43m\"\u001B[39;49m\u001B[38;5;124;43m请输入要分析的关键词: \u001B[39;49m\u001B[38;5;124;43m\"\u001B[39;49m\u001B[43m)\u001B[49m\n\u001B[0;32m      5\u001B[0m     \u001B[38;5;28;01mif\u001B[39;00m keyword\u001B[38;5;241m.\u001B[39mstrip():\n\u001B[0;32m      6\u001B[0m         \u001B[38;5;28;01mreturn\u001B[39;00m analyze_keyword(df, keyword\u001B[38;5;241m.\u001B[39mstrip(), output_dir)\n",
      "File \u001B[1;32mD:\\software\\miniconda3\\envs\\literature-analysis\\lib\\site-packages\\ipykernel\\kernelbase.py:1282\u001B[0m, in \u001B[0;36mKernel.raw_input\u001B[1;34m(self, prompt)\u001B[0m\n\u001B[0;32m   1280\u001B[0m     msg \u001B[38;5;241m=\u001B[39m \u001B[38;5;124m\"\u001B[39m\u001B[38;5;124mraw_input was called, but this frontend does not support input requests.\u001B[39m\u001B[38;5;124m\"\u001B[39m\n\u001B[0;32m   1281\u001B[0m     \u001B[38;5;28;01mraise\u001B[39;00m StdinNotImplementedError(msg)\n\u001B[1;32m-> 1282\u001B[0m \u001B[38;5;28;01mreturn\u001B[39;00m \u001B[38;5;28;43mself\u001B[39;49m\u001B[38;5;241;43m.\u001B[39;49m\u001B[43m_input_request\u001B[49m\u001B[43m(\u001B[49m\n\u001B[0;32m   1283\u001B[0m \u001B[43m    \u001B[49m\u001B[38;5;28;43mstr\u001B[39;49m\u001B[43m(\u001B[49m\u001B[43mprompt\u001B[49m\u001B[43m)\u001B[49m\u001B[43m,\u001B[49m\n\u001B[0;32m   1284\u001B[0m \u001B[43m    \u001B[49m\u001B[38;5;28;43mself\u001B[39;49m\u001B[38;5;241;43m.\u001B[39;49m\u001B[43m_parent_ident\u001B[49m\u001B[43m[\u001B[49m\u001B[38;5;124;43m\"\u001B[39;49m\u001B[38;5;124;43mshell\u001B[39;49m\u001B[38;5;124;43m\"\u001B[39;49m\u001B[43m]\u001B[49m\u001B[43m,\u001B[49m\n\u001B[0;32m   1285\u001B[0m \u001B[43m    \u001B[49m\u001B[38;5;28;43mself\u001B[39;49m\u001B[38;5;241;43m.\u001B[39;49m\u001B[43mget_parent\u001B[49m\u001B[43m(\u001B[49m\u001B[38;5;124;43m\"\u001B[39;49m\u001B[38;5;124;43mshell\u001B[39;49m\u001B[38;5;124;43m\"\u001B[39;49m\u001B[43m)\u001B[49m\u001B[43m,\u001B[49m\n\u001B[0;32m   1286\u001B[0m \u001B[43m    \u001B[49m\u001B[43mpassword\u001B[49m\u001B[38;5;241;43m=\u001B[39;49m\u001B[38;5;28;43;01mFalse\u001B[39;49;00m\u001B[43m,\u001B[49m\n\u001B[0;32m   1287\u001B[0m \u001B[43m\u001B[49m\u001B[43m)\u001B[49m\n",
      "File \u001B[1;32mD:\\software\\miniconda3\\envs\\literature-analysis\\lib\\site-packages\\ipykernel\\kernelbase.py:1325\u001B[0m, in \u001B[0;36mKernel._input_request\u001B[1;34m(self, prompt, ident, parent, password)\u001B[0m\n\u001B[0;32m   1322\u001B[0m \u001B[38;5;28;01mexcept\u001B[39;00m \u001B[38;5;167;01mKeyboardInterrupt\u001B[39;00m:\n\u001B[0;32m   1323\u001B[0m     \u001B[38;5;66;03m# re-raise KeyboardInterrupt, to truncate traceback\u001B[39;00m\n\u001B[0;32m   1324\u001B[0m     msg \u001B[38;5;241m=\u001B[39m \u001B[38;5;124m\"\u001B[39m\u001B[38;5;124mInterrupted by user\u001B[39m\u001B[38;5;124m\"\u001B[39m\n\u001B[1;32m-> 1325\u001B[0m     \u001B[38;5;28;01mraise\u001B[39;00m \u001B[38;5;167;01mKeyboardInterrupt\u001B[39;00m(msg) \u001B[38;5;28;01mfrom\u001B[39;00m\u001B[38;5;250m \u001B[39m\u001B[38;5;28;01mNone\u001B[39;00m\n\u001B[0;32m   1326\u001B[0m \u001B[38;5;28;01mexcept\u001B[39;00m \u001B[38;5;167;01mException\u001B[39;00m:\n\u001B[0;32m   1327\u001B[0m     \u001B[38;5;28mself\u001B[39m\u001B[38;5;241m.\u001B[39mlog\u001B[38;5;241m.\u001B[39mwarning(\u001B[38;5;124m\"\u001B[39m\u001B[38;5;124mInvalid Message:\u001B[39m\u001B[38;5;124m\"\u001B[39m, exc_info\u001B[38;5;241m=\u001B[39m\u001B[38;5;28;01mTrue\u001B[39;00m)\n",
      "\u001B[1;31mKeyboardInterrupt\u001B[0m: Interrupted by user"
     ]
    }
   ],
   "execution_count": 20
  },
  {
   "metadata": {
    "ExecuteTime": {
     "end_time": "2025-05-12T03:20:26.619461Z",
     "start_time": "2025-05-12T03:20:26.532678Z"
    }
   },
   "cell_type": "code",
   "source": [
    "for keyword in insight_keywords:\n",
    "    print(f\"\\n正在分析关键词: {keyword}\")\n",
    "    result = analyze_keyword(df, keyword, output_dir)\n",
    "    display(result)  # 在Jupyter中显示结果"
   ],
   "id": "d6dae0fe63c0275f",
   "outputs": [
    {
     "name": "stdout",
     "output_type": "stream",
     "text": [
      "\n",
      "正在分析关键词: continuous fibers\n",
      "\n",
      "==================================================\n",
      "开始分析关键词: continuous fibers\n",
      "==================================================\n",
      "\n",
      "开始为关键词 'continuous fibers' 创建关系图...\n",
      "找到与 'continuous fibers' 共现的关键词数量: 122\n",
      "共现次数 >= 2 的关键词数量: 20\n",
      "关系图已保存至: ./results/CFpathPlanning101_replaced_synonyms_20250512_11\\continuous_fibers_relation_graph.html\n"
     ]
    },
    {
     "data": {
      "text/plain": [
       "<IPython.lib.display.IFrame at 0x25e3f9d7760>"
      ],
      "text/html": [
       "\n",
       "        <iframe\n",
       "            width=\"1000\"\n",
       "            height=\"800\"\n",
       "            src=\"./results/CFpathPlanning101_replaced_synonyms_20250512_11\\continuous_fibers_relation_graph.html\"\n",
       "            frameborder=\"0\"\n",
       "            allowfullscreen\n",
       "            \n",
       "        ></iframe>\n",
       "        "
      ]
     },
     "metadata": {},
     "output_type": "display_data"
    },
    {
     "name": "stdout",
     "output_type": "stream",
     "text": [
      "\n",
      "正在分析关键词: path planning method\n",
      "\n",
      "==================================================\n",
      "开始分析关键词: path planning method\n",
      "==================================================\n",
      "\n",
      "开始为关键词 'path planning method' 创建关系图...\n",
      "找到与 'path planning method' 共现的关键词数量: 185\n",
      "共现次数 >= 2 的关键词数量: 27\n",
      "关系图已保存至: ./results/CFpathPlanning101_replaced_synonyms_20250512_11\\path_planning_method_relation_graph.html\n"
     ]
    },
    {
     "data": {
      "text/plain": [
       "<IPython.lib.display.IFrame at 0x25e2121df30>"
      ],
      "text/html": [
       "\n",
       "        <iframe\n",
       "            width=\"1000\"\n",
       "            height=\"800\"\n",
       "            src=\"./results/CFpathPlanning101_replaced_synonyms_20250512_11\\path_planning_method_relation_graph.html\"\n",
       "            frameborder=\"0\"\n",
       "            allowfullscreen\n",
       "            \n",
       "        ></iframe>\n",
       "        "
      ]
     },
     "metadata": {},
     "output_type": "display_data"
    },
    {
     "name": "stdout",
     "output_type": "stream",
     "text": [
      "\n",
      "正在分析关键词: robot programming\n",
      "\n",
      "==================================================\n",
      "开始分析关键词: robot programming\n",
      "==================================================\n",
      "\n",
      "开始为关键词 'robot programming' 创建关系图...\n",
      "找到与 'robot programming' 共现的关键词数量: 235\n",
      "共现次数 >= 2 的关键词数量: 27\n",
      "关系图已保存至: ./results/CFpathPlanning101_replaced_synonyms_20250512_11\\robot_programming_relation_graph.html\n"
     ]
    },
    {
     "data": {
      "text/plain": [
       "<IPython.lib.display.IFrame at 0x25e2121de10>"
      ],
      "text/html": [
       "\n",
       "        <iframe\n",
       "            width=\"1000\"\n",
       "            height=\"800\"\n",
       "            src=\"./results/CFpathPlanning101_replaced_synonyms_20250512_11\\robot_programming_relation_graph.html\"\n",
       "            frameborder=\"0\"\n",
       "            allowfullscreen\n",
       "            \n",
       "        ></iframe>\n",
       "        "
      ]
     },
     "metadata": {},
     "output_type": "display_data"
    },
    {
     "name": "stdout",
     "output_type": "stream",
     "text": [
      "\n",
      "正在分析关键词: optimization\n",
      "\n",
      "==================================================\n",
      "开始分析关键词: optimization\n",
      "==================================================\n",
      "\n",
      "开始为关键词 'optimization' 创建关系图...\n",
      "找到与 'optimization' 共现的关键词数量: 73\n",
      "共现次数 >= 2 的关键词数量: 9\n",
      "关系图已保存至: ./results/CFpathPlanning101_replaced_synonyms_20250512_11\\optimization_relation_graph.html\n"
     ]
    },
    {
     "data": {
      "text/plain": [
       "<IPython.lib.display.IFrame at 0x25e2121df30>"
      ],
      "text/html": [
       "\n",
       "        <iframe\n",
       "            width=\"1000\"\n",
       "            height=\"800\"\n",
       "            src=\"./results/CFpathPlanning101_replaced_synonyms_20250512_11\\optimization_relation_graph.html\"\n",
       "            frameborder=\"0\"\n",
       "            allowfullscreen\n",
       "            \n",
       "        ></iframe>\n",
       "        "
      ]
     },
     "metadata": {},
     "output_type": "display_data"
    },
    {
     "name": "stdout",
     "output_type": "stream",
     "text": [
      "\n",
      "正在分析关键词: topology optimisation\n",
      "\n",
      "==================================================\n",
      "开始分析关键词: topology optimisation\n",
      "==================================================\n",
      "\n",
      "开始为关键词 'topology optimisation' 创建关系图...\n",
      "找到与 'topology optimisation' 共现的关键词数量: 41\n",
      "共现次数 >= 2 的关键词数量: 7\n",
      "关系图已保存至: ./results/CFpathPlanning101_replaced_synonyms_20250512_11\\topology_optimisation_relation_graph.html\n"
     ]
    },
    {
     "data": {
      "text/plain": [
       "<IPython.lib.display.IFrame at 0x25e22614ee0>"
      ],
      "text/html": [
       "\n",
       "        <iframe\n",
       "            width=\"1000\"\n",
       "            height=\"800\"\n",
       "            src=\"./results/CFpathPlanning101_replaced_synonyms_20250512_11\\topology_optimisation_relation_graph.html\"\n",
       "            frameborder=\"0\"\n",
       "            allowfullscreen\n",
       "            \n",
       "        ></iframe>\n",
       "        "
      ]
     },
     "metadata": {},
     "output_type": "display_data"
    }
   ],
   "execution_count": 21
  },
  {
   "metadata": {},
   "cell_type": "code",
   "outputs": [],
   "execution_count": null,
   "source": "",
   "id": "ce1d1caeea8cf107"
  }
 ],
 "metadata": {
  "kernelspec": {
   "display_name": "Python 3",
   "language": "python",
   "name": "python3"
  },
  "language_info": {
   "codemirror_mode": {
    "name": "ipython",
    "version": 2
   },
   "file_extension": ".py",
   "mimetype": "text/x-python",
   "name": "python",
   "nbconvert_exporter": "python",
   "pygments_lexer": "ipython2",
   "version": "2.7.6"
  }
 },
 "nbformat": 4,
 "nbformat_minor": 5
}
